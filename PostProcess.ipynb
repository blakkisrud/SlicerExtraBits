{
 "cells": [
  {
   "cell_type": "code",
   "execution_count": 1,
   "metadata": {},
   "outputs": [],
   "source": [
    "# Import libs\n",
    "\n",
    "import numpy as np\n",
    "import nrrd\n",
    "import matplotlib.pyplot as plt\n",
    "import csv"
   ]
  },
  {
   "cell_type": "code",
   "execution_count": 1,
   "metadata": {},
   "outputs": [],
   "source": [
    "# Input values - these are files saved by 3D Slicer\n",
    "\n",
    "path_to_label_map = \"Initsegmentation-label.nrrd\"\n",
    "path_to_data_matrix = \"3 PET WB.nrrd\"\n",
    "path_to_colortable = \"Initsegmentation-label_ColorTable.ctbl\"\n",
    "\n",
    "path_to_output_volume = \"40Percent_threshold.nrrd\"\n",
    "path_to_output_map = \"40Percent_threshold_labelmap.nrrd\""
   ]
  },
  {
   "cell_type": "code",
   "execution_count": null,
   "metadata": {},
   "outputs": [],
   "source": [
    "labelmap, header = nrrd.read(path_to_label_map)\n",
    "data_matrix, data_matrix_header = nrrd.read(path_to_data_matrix)\n",
    "\n",
    "# Get the labels of the structures from the color-table file \n",
    "# This is not strictly needed but nice for easier handling\n",
    "\n",
    "f = open(path_to_colortable, \"r\")\n",
    "\n",
    "list_of_names = []\n",
    "list_of_labels = []\n",
    "\n",
    "for line in f:\n",
    "    if line[0] != \"#\":\n",
    "        row_vector = (line.split(\" \"))\n",
    "        name = row_vector[1]\n",
    "        label = row_vector[0]\n",
    "        \n",
    "        print(name, label)\n",
    "        \n",
    "        list_of_names.append(name)\n",
    "        list_of_labels.append(label)\n",
    "        \n",
    "zip_iterator = zip(list_of_labels, list_of_names)\n",
    "\n",
    "labelNames = dict(zip_iterator)\n",
    "\n",
    "# Initialize two volumes to write the output\n",
    "\n",
    "output_matrix = np.zeros(np.shape(data_matrix))\n",
    "output_labelmap = np.zeros(np.shape(data_matrix))\n",
    "\n",
    "assert np.shape(labelmap) == np.shape(data_matrix) and np.shape(labelmap) == np.shape(output_matrix)\n",
    "\n",
    "# Ensure that spatial and origin are ok\n",
    "data_header_output = data_matrix_header\n",
    "data_header_output['type'] = 'float'\n",
    "\n",
    "labels_in_map = np.arange(np.max(labelmap))+1\n",
    "\n",
    "# Threshold structure by structure\n",
    "# To be a part of the output the voxel must both be above a certain threshold _and_ be in that segment\n",
    "\n",
    "# Set a figure to plot results when applicable\n",
    "\n",
    "fig = plt.figure()\n",
    "ax = fig.add_subplot(111)\n",
    "\n",
    "voxel_list = [] # list to hold voxel-values if one wants to see the distribution\n",
    "tick_list = [] # List to hold the labels of the tick\n",
    "\n",
    "for label in labels_in_map:\n",
    "    \n",
    "    I = labelmap == label # Index to the labels\n",
    "    \n",
    "    #==================================================================================\n",
    "    #\n",
    "    # Insert your own analysis here - example with a simple thresholding is shown\n",
    "    #\n",
    "    #==================================================================================\n",
    "    lesion_threshold = 0.4*np.max(data_matrix[I]) # Find the threshold value\n",
    "    above_threshold = data_matrix>lesion_threshold # Index of voxels above the threshold\n",
    "    threshold_mask = np.logical_and(I, above_threshold) # The overlap of indexes of threshold and label\n",
    "    output_matrix[threshold_mask] = data_matrix[threshold_mask] # Set the values to an output volume\n",
    "    output_labelmap[threshold_mask] = label \n",
    "    voxel_list.append(data_matrix[threshold_mask])\n",
    "    \n",
    "    tick_list.append(labelNames[str(label)])\n",
    "\n",
    "plt.boxplot(voxel_list)\n",
    "ax.set_xticklabels(tick_list)\n",
    "\n",
    "# Save the volumes for further inspection\n",
    "nrrd.write(path_to_output_volume, output_matrix, data_header_output, index_order='F')\n",
    "nrrd.write(path_to_output_map, output_labelmap, header, index_order='F')"
   ]
  },
  {
   "cell_type": "code",
   "execution_count": null,
   "metadata": {},
   "outputs": [],
   "source": [
    "\n"
   ]
  },
  {
   "cell_type": "code",
   "execution_count": null,
   "metadata": {},
   "outputs": [],
   "source": [
    "\n"
   ]
  },
  {
   "cell_type": "code",
   "execution_count": null,
   "metadata": {},
   "outputs": [],
   "source": []
  },
  {
   "cell_type": "code",
   "execution_count": null,
   "metadata": {},
   "outputs": [],
   "source": []
  }
 ],
 "metadata": {
  "kernelspec": {
   "display_name": "Python 3",
   "language": "python",
   "name": "python3"
  },
  "language_info": {
   "codemirror_mode": {
    "name": "ipython",
    "version": 3
   },
   "file_extension": ".py",
   "mimetype": "text/x-python",
   "name": "python",
   "nbconvert_exporter": "python",
   "pygments_lexer": "ipython3",
   "version": "3.8.3"
  }
 },
 "nbformat": 4,
 "nbformat_minor": 4
}
